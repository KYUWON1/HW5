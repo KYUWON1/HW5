{
 "cells": [
  {
   "cell_type": "code",
   "execution_count": 1,
   "id": "655c8d24",
   "metadata": {},
   "outputs": [
    {
     "name": "stdout",
     "output_type": "stream",
     "text": [
      "***Annual Temperature Report for Seoul in 2022\n",
      "Average Temperatuer : 13.26 Celsius\n",
      "Average Minimum Temperatuer : -13.7 Celsius\n",
      "Average Maximum Temperatuer : 36.1 Celsius\n"
     ]
    }
   ],
   "source": [
    "import csv \n",
    "f= open('2022_Seoul_Temp.csv')\n",
    "\n",
    "data = csv.reader(f)\n",
    "next(data)\n",
    "\n",
    "count = 0\n",
    "avgtemp = 0\n",
    "low = 0\n",
    "max = 0\n",
    "\n",
    "for row in data:\n",
    "    for i in range(2,5):\n",
    "        if(row[3]!=''):\n",
    "            row[i] = float(row[i])\n",
    "   \n",
    "    if row[3] != '':\n",
    "        avgtemp += row[2]\n",
    "        count+=1\n",
    "        if max < row[4]:\n",
    "            max = row[4]\n",
    "        if low > row[3] :\n",
    "            low = row[3]\n",
    "            \n",
    "avgtemp = avgtemp / count\n",
    "\n",
    "print(\"***Annual Temperature Report for Seoul in 2022\")\n",
    "print('Average Temperatuer :',round(avgtemp,2),'Celsius')\n",
    "print('Average Minimum Temperatuer :',round(low,2),'Celsius')  \n",
    "print('Average Maximum Temperatuer :',round(max,2),'Celsius')  \n"
   ]
  },
  {
   "cell_type": "code",
   "execution_count": null,
   "id": "4821b92e",
   "metadata": {},
   "outputs": [],
   "source": []
  }
 ],
 "metadata": {
  "kernelspec": {
   "display_name": "Python 3 (ipykernel)",
   "language": "python",
   "name": "python3"
  },
  "language_info": {
   "codemirror_mode": {
    "name": "ipython",
    "version": 3
   },
   "file_extension": ".py",
   "mimetype": "text/x-python",
   "name": "python",
   "nbconvert_exporter": "python",
   "pygments_lexer": "ipython3",
   "version": "3.9.7"
  }
 },
 "nbformat": 4,
 "nbformat_minor": 5
}
