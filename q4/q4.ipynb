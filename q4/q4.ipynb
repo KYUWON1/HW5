{
 "cells": [
  {
   "cell_type": "code",
   "execution_count": 10,
   "id": "917bc997",
   "metadata": {},
   "outputs": [
    {
     "name": "stdout",
     "output_type": "stream",
     "text": [
      "***Subway Report for Seoul on March 2023 ***\n",
      "Line 1:\n",
      "Busiest Station: 서울역 the number of total passengers 3084227.0\n",
      "Line 2:\n",
      "Busiest Station: 강남 the number of total passengers 4690366.0\n",
      "Line 3:\n",
      "Busiest Station: 고속터미널 the number of total passengers 2886887.0\n",
      "Line 4:\n",
      "Busiest Station: 혜화 the number of total passengers 2286709.0\n"
     ]
    }
   ],
   "source": [
    "import csv \n",
    "f= open('202303_Seoul_Subway.csv')\n",
    "\n",
    "data = csv.reader(f)\n",
    "next(data)\n",
    "\n",
    "max1 = 0\n",
    "max2 = 0\n",
    "max3 = 0\n",
    "max4 = 0\n",
    "\n",
    "max1row = ''\n",
    "max2row = ''\n",
    "max3row = ''\n",
    "max4row = ''\n",
    "\n",
    "for row in data:\n",
    "    for i in range(4,6):\n",
    "        row[i] = float(row[i])\n",
    "    if row[1] =='1호선':\n",
    "        if max1<row[4] +row[5]:\n",
    "            max1 = row[4] +row[5]\n",
    "            max1row = row\n",
    "    if row[1] =='2호선':\n",
    "        if max2<row[4] +row[5]:\n",
    "            max2 = row[4] +row[5]\n",
    "            max2row = row\n",
    "    if row[1] =='3호선':\n",
    "        if max3<row[4] +row[5]:\n",
    "            max3 = row[4] +row[5]\n",
    "            max3row = row\n",
    "    if row[1] =='4호선':\n",
    "        if max4<row[4] +row[5]:\n",
    "            max4 = row[4] +row[5]\n",
    "            max4row = row\n",
    "print('***Subway Report for Seoul on March 2023 ***')\n",
    "print('Line 1:')\n",
    "print('Busiest Station:',max1row[3],'the number of total passengers',round(max1,2))\n",
    "print('Line 2:')\n",
    "print('Busiest Station:',max2row[3],'the number of total passengers',round(max2,2))\n",
    "print('Line 3:')\n",
    "print('Busiest Station:',max3row[3],'the number of total passengers',round(max3,2))\n",
    "print('Line 4:')\n",
    "print('Busiest Station:',max4row[3],'the number of total passengers',round(max4,2))"
   ]
  },
  {
   "cell_type": "code",
   "execution_count": null,
   "id": "5cd150cc",
   "metadata": {},
   "outputs": [],
   "source": []
  }
 ],
 "metadata": {
  "kernelspec": {
   "display_name": "Python 3 (ipykernel)",
   "language": "python",
   "name": "python3"
  },
  "language_info": {
   "codemirror_mode": {
    "name": "ipython",
    "version": 3
   },
   "file_extension": ".py",
   "mimetype": "text/x-python",
   "name": "python",
   "nbconvert_exporter": "python",
   "pygments_lexer": "ipython3",
   "version": "3.9.7"
  }
 },
 "nbformat": 4,
 "nbformat_minor": 5
}
