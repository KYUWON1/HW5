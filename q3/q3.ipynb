{
 "cells": [
  {
   "cell_type": "code",
   "execution_count": 29,
   "id": "da58e4a4",
   "metadata": {},
   "outputs": [
    {
     "name": "stdout",
     "output_type": "stream",
     "text": [
      "***subway report for seoul on March 2023***\n",
      "1st Busiest Line : 2호선 the number of total passenger 4690366.0\n",
      "1st Busiest Line : 2호선 the number of total passenger 4615937.0\n",
      "1st Least used Line : 7호선 the number of total passenger 1.0\n",
      "1st Least used Line : 경의선 the number of total passenger 3.0\n"
     ]
    }
   ],
   "source": [
    "import csv \n",
    "f= open('202303_Seoul_Subway.csv')\n",
    "\n",
    "data = csv.reader(f)\n",
    "next(data)\n",
    "\n",
    "maxrow = ''\n",
    "max2row = ''\n",
    "max = 0\n",
    "max2 = 0\n",
    "\n",
    "lowrow = ''\n",
    "low2row = ''\n",
    "low = 10000\n",
    "low2 = 10000\n",
    "\n",
    "for row in data:\n",
    "    for i in range(4,6):\n",
    "        row[i] = float(row[i])\n",
    "    if max < row[4]+row[5] :\n",
    "        max2row=maxrow\n",
    "        max2=max\n",
    "        max =row[4] +row[5]\n",
    "        maxrow = row\n",
    "    if low > row[4]+row[5] :\n",
    "        low2row = lowrow\n",
    "        low2=low\n",
    "        low = row[4]+row[5]\n",
    "        lowrow = row\n",
    "print('***subway report for seoul on March 2023***')\n",
    "print('1st Busiest Line :',maxrow[1],'the number of total passenger',round(max,2))\n",
    "print('1st Busiest Line :',max2row[1],'the number of total passenger', round(max2,2))\n",
    "print('1st Least used Line :',lowrow[1],'the number of total passenger', round(low,2))\n",
    "print('1st Least used Line :',low2row[1],'the number of total passenger', round(low2,2))\n",
    "\n"
   ]
  },
  {
   "cell_type": "code",
   "execution_count": null,
   "id": "ef217ebf",
   "metadata": {},
   "outputs": [],
   "source": []
  }
 ],
 "metadata": {
  "kernelspec": {
   "display_name": "Python 3 (ipykernel)",
   "language": "python",
   "name": "python3"
  },
  "language_info": {
   "codemirror_mode": {
    "name": "ipython",
    "version": 3
   },
   "file_extension": ".py",
   "mimetype": "text/x-python",
   "name": "python",
   "nbconvert_exporter": "python",
   "pygments_lexer": "ipython3",
   "version": "3.9.7"
  }
 },
 "nbformat": 4,
 "nbformat_minor": 5
}
