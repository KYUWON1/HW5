{
 "cells": [
  {
   "cell_type": "code",
   "execution_count": 4,
   "id": "a22202ce",
   "metadata": {},
   "outputs": [
    {
     "name": "stdout",
     "output_type": "stream",
     "text": [
      "***Annual Temperature Report for Seoul in 2022 ***\n",
      "Day with the Largest Temperature Variation: 2022-11-29\n",
      "Maximum Temperature Difference : 16.6 Celsius\n",
      "Day with the Smallest Temperature Variation: 2022-06-29\n",
      "Minumum Temperature Difference : 1.7 Celsius\n"
     ]
    }
   ],
   "source": [
    "import csv \n",
    "f= open('2022_Seoul_Temp.csv')\n",
    "\n",
    "data = csv.reader(f)\n",
    "next(data)\n",
    "\n",
    "\n",
    "low = 111\n",
    "lowrow = ''\n",
    "max = -111\n",
    "maxrow = ''\n",
    "\n",
    "for row in data:\n",
    "    for i in range(2,5):\n",
    "        if(row[3]!=''):\n",
    "            row[i] = float(row[i])\n",
    "   \n",
    "    if row[3] != '':\n",
    "        if max < row[4]-row[3]:\n",
    "            maxrow = row\n",
    "            max = row[4]-row[3]\n",
    "        if low > row[4]-row[3] :\n",
    "            lowrow = row\n",
    "            low = row[4]-row[3]\n",
    "print('***Annual Temperature Report for Seoul in 2022 ***')\n",
    "print('Day with the Largest Temperature Variation:',maxrow[0])\n",
    "print('Maximum Temperature Difference :',round(max,2),'Celsius')\n",
    "print('Day with the Smallest Temperature Variation:',lowrow[0])\n",
    "print('Minumum Temperature Difference :',round(low,2),'Celsius')"
   ]
  },
  {
   "cell_type": "code",
   "execution_count": null,
   "id": "dbcea868",
   "metadata": {},
   "outputs": [],
   "source": []
  }
 ],
 "metadata": {
  "kernelspec": {
   "display_name": "Python 3 (ipykernel)",
   "language": "python",
   "name": "python3"
  },
  "language_info": {
   "codemirror_mode": {
    "name": "ipython",
    "version": 3
   },
   "file_extension": ".py",
   "mimetype": "text/x-python",
   "name": "python",
   "nbconvert_exporter": "python",
   "pygments_lexer": "ipython3",
   "version": "3.9.7"
  }
 },
 "nbformat": 4,
 "nbformat_minor": 5
}
